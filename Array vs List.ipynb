{
 "cells": [
  {
   "cell_type": "markdown",
   "id": "4f144a77",
   "metadata": {},
   "source": [
    "# Array vs List"
   ]
  },
  {
   "cell_type": "markdown",
   "id": "a21fb9b2",
   "metadata": {},
   "source": [
    "Array: It is an linear data structure which stores the similar data type in contiguous memory.\n",
    "\n",
    "List: Is is a linear data structure which stores any kind of data type in non contigous memory.\n",
    "\n",
    "Both are used to for storing data.\n",
    "\n",
    "Both are mutable. (We can change after creation)\n",
    "\n",
    "Can be indexed.\n",
    "\n",
    "We can perform slicing operations.\n"
   ]
  },
  {
   "cell_type": "markdown",
   "id": "6f706b98",
   "metadata": {},
   "source": [
    "### Iteration"
   ]
  },
  {
   "cell_type": "markdown",
   "id": "ba71dcc2",
   "metadata": {},
   "source": [
    "Iteration through array is faster than list\n",
    "An array is faster and that is because ArrayList uses a fixed amount of array. However when you add an element to the ArrayList and it overflows. It creates a new Array and copies every element from the old one to the new one"
   ]
  },
  {
   "cell_type": "code",
   "execution_count": 2,
   "id": "91fdd35a",
   "metadata": {},
   "outputs": [],
   "source": [
    "import numpy as np"
   ]
  },
  {
   "cell_type": "code",
   "execution_count": 5,
   "id": "38483226",
   "metadata": {},
   "outputs": [],
   "source": [
    "a = np.array([1, 2, 3])\n",
    "l = [1, 2, 3]"
   ]
  },
  {
   "cell_type": "code",
   "execution_count": 6,
   "id": "c02cda44",
   "metadata": {},
   "outputs": [
    {
     "data": {
      "text/plain": [
       "array([1, 2, 3])"
      ]
     },
     "execution_count": 6,
     "metadata": {},
     "output_type": "execute_result"
    }
   ],
   "source": [
    "a"
   ]
  },
  {
   "cell_type": "code",
   "execution_count": 7,
   "id": "c11f20bc",
   "metadata": {},
   "outputs": [
    {
     "data": {
      "text/plain": [
       "[1, 2, 3]"
      ]
     },
     "execution_count": 7,
     "metadata": {},
     "output_type": "execute_result"
    }
   ],
   "source": [
    "l"
   ]
  },
  {
   "cell_type": "code",
   "execution_count": 8,
   "id": "4f864145",
   "metadata": {},
   "outputs": [
    {
     "data": {
      "text/plain": [
       "[1, 2, 3, 4]"
      ]
     },
     "execution_count": 8,
     "metadata": {},
     "output_type": "execute_result"
    }
   ],
   "source": [
    "l.append(4)\n",
    "l"
   ]
  },
  {
   "cell_type": "code",
   "execution_count": 23,
   "id": "c6594ae9",
   "metadata": {},
   "outputs": [
    {
     "ename": "AttributeError",
     "evalue": "'numpy.ndarray' object has no attribute 'append'",
     "output_type": "error",
     "traceback": [
      "\u001b[0;31m---------------------------------------------------------------------------\u001b[0m",
      "\u001b[0;31mAttributeError\u001b[0m                            Traceback (most recent call last)",
      "\u001b[0;32m/var/folders/v3/sw7w9t1x69n89mlbsfrz4tx80000gn/T/ipykernel_7861/2039127283.py\u001b[0m in \u001b[0;36m<module>\u001b[0;34m\u001b[0m\n\u001b[0;32m----> 1\u001b[0;31m \u001b[0ma\u001b[0m\u001b[0;34m.\u001b[0m\u001b[0mappend\u001b[0m\u001b[0;34m(\u001b[0m\u001b[0;36m4\u001b[0m\u001b[0;34m)\u001b[0m    \u001b[0;31m# here we append, we will get an error and we can't append an array to an array, if we want to append\u001b[0m\u001b[0;34m\u001b[0m\u001b[0;34m\u001b[0m\u001b[0m\n\u001b[0m\u001b[1;32m      2\u001b[0m                \u001b[0;31m# we have create new array\u001b[0m\u001b[0;34m\u001b[0m\u001b[0;34m\u001b[0m\u001b[0;34m\u001b[0m\u001b[0m\n",
      "\u001b[0;31mAttributeError\u001b[0m: 'numpy.ndarray' object has no attribute 'append'"
     ]
    }
   ],
   "source": [
    "a.append(4)    # here we append, we will get an error and we can't append an array to an array, if we want to append\n",
    "               # we have create new array "
   ]
  },
  {
   "cell_type": "code",
   "execution_count": 13,
   "id": "a1b6919c",
   "metadata": {},
   "outputs": [
    {
     "data": {
      "text/plain": [
       "array([1, 2, 3, 4])"
      ]
     },
     "execution_count": 13,
     "metadata": {},
     "output_type": "execute_result"
    }
   ],
   "source": [
    "new_a = np.append(a, 4)\n",
    "new_a"
   ]
  },
  {
   "cell_type": "markdown",
   "id": "b35eaf27",
   "metadata": {},
   "source": [
    "# For a data structure to be faster that length has to be fixed. \n",
    "\n",
    "Array and List both are mutable, which means elements can be changed at any time, without modifying the length of the data structure.\n",
    "\n",
    "Here, Array length can't be changed, where as list length can be changed. \n",
    "\n",
    "If we want to change the length of an array we have create a new array and append an element into that. In list we need not to create new list to append an element, just adds at the end.\n"
   ]
  },
  {
   "cell_type": "markdown",
   "id": "81e55fc1",
   "metadata": {},
   "source": [
    "."
   ]
  },
  {
   "cell_type": "markdown",
   "id": "757d2be2",
   "metadata": {},
   "source": [
    "## Addition "
   ]
  },
  {
   "cell_type": "code",
   "execution_count": 15,
   "id": "1f622591",
   "metadata": {
    "scrolled": true
   },
   "outputs": [
    {
     "data": {
      "text/plain": [
       "[1, 2, 3, 4, 5]"
      ]
     },
     "execution_count": 15,
     "metadata": {},
     "output_type": "execute_result"
    }
   ],
   "source": [
    "l + [5]     # here adding a list means it appends list "
   ]
  },
  {
   "cell_type": "code",
   "execution_count": 18,
   "id": "8f316f5b",
   "metadata": {},
   "outputs": [
    {
     "ename": "TypeError",
     "evalue": "can only concatenate list (not \"int\") to list",
     "output_type": "error",
     "traceback": [
      "\u001b[0;31m---------------------------------------------------------------------------\u001b[0m",
      "\u001b[0;31mTypeError\u001b[0m                                 Traceback (most recent call last)",
      "\u001b[0;32m/var/folders/v3/sw7w9t1x69n89mlbsfrz4tx80000gn/T/ipykernel_7861/3545323918.py\u001b[0m in \u001b[0;36m<module>\u001b[0;34m\u001b[0m\n\u001b[0;32m----> 1\u001b[0;31m \u001b[0ml\u001b[0m \u001b[0;34m+\u001b[0m \u001b[0;36m5\u001b[0m\u001b[0;34m\u001b[0m\u001b[0;34m\u001b[0m\u001b[0m\n\u001b[0m",
      "\u001b[0;31mTypeError\u001b[0m: can only concatenate list (not \"int\") to list"
     ]
    }
   ],
   "source": [
    "l + 5     # when we add an element we will get an error"
   ]
  },
  {
   "cell_type": "code",
   "execution_count": 16,
   "id": "2bc3abcf",
   "metadata": {},
   "outputs": [
    {
     "data": {
      "text/plain": [
       "array([6, 7, 8])"
      ]
     },
     "execution_count": 16,
     "metadata": {},
     "output_type": "execute_result"
    }
   ],
   "source": [
    "a + np.array(5)     # if we add an array of single element or an element it gets added for each element in the array"
   ]
  },
  {
   "cell_type": "code",
   "execution_count": 17,
   "id": "082047e5",
   "metadata": {},
   "outputs": [
    {
     "data": {
      "text/plain": [
       "array([6, 7, 8])"
      ]
     },
     "execution_count": 17,
     "metadata": {},
     "output_type": "execute_result"
    }
   ],
   "source": [
    "a + 5"
   ]
  },
  {
   "cell_type": "code",
   "execution_count": 19,
   "id": "df367429",
   "metadata": {},
   "outputs": [
    {
     "data": {
      "text/plain": [
       "array([2, 4, 6])"
      ]
     },
     "execution_count": 19,
     "metadata": {},
     "output_type": "execute_result"
    }
   ],
   "source": [
    "a + np.array([1, 2, 3])    # it gets accoring to the index, for list just get append"
   ]
  },
  {
   "cell_type": "markdown",
   "id": "3b555593",
   "metadata": {},
   "source": [
    "## Multiplication"
   ]
  },
  {
   "cell_type": "code",
   "execution_count": 20,
   "id": "ae3852ee",
   "metadata": {},
   "outputs": [
    {
     "data": {
      "text/plain": [
       "[1, 2, 3, 4, 1, 2, 3, 4]"
      ]
     },
     "execution_count": 20,
     "metadata": {},
     "output_type": "execute_result"
    }
   ],
   "source": [
    "l*2    # it copies that many times in the same list"
   ]
  },
  {
   "cell_type": "code",
   "execution_count": 33,
   "id": "fd16f72c",
   "metadata": {},
   "outputs": [
    {
     "data": {
      "text/plain": [
       "array([2, 4, 6])"
      ]
     },
     "execution_count": 33,
     "metadata": {},
     "output_type": "execute_result"
    }
   ],
   "source": [
    "a*2    # it multiplies each and every element with that number, if we use same size array then multiplies like dot \n",
    "       # a vector. Not only this but also subtraction and division is also same"
   ]
  },
  {
   "cell_type": "code",
   "execution_count": 25,
   "id": "d31e3e09",
   "metadata": {},
   "outputs": [
    {
     "data": {
      "text/plain": [
       "array([1, 4, 9])"
      ]
     },
     "execution_count": 25,
     "metadata": {},
     "output_type": "execute_result"
    }
   ],
   "source": [
    "a**2     # powering up of 2 each and every element. In list it is not possible, if we want to use that we have to \n",
    "         # iterate through the list and power up"
   ]
  },
  {
   "cell_type": "markdown",
   "id": "512bfcb7",
   "metadata": {},
   "source": [
    "## Other mathematical operations"
   ]
  },
  {
   "cell_type": "code",
   "execution_count": 26,
   "id": "dccf1325",
   "metadata": {},
   "outputs": [
    {
     "data": {
      "text/plain": [
       "array([1.        , 1.41421356, 1.73205081])"
      ]
     },
     "execution_count": 26,
     "metadata": {},
     "output_type": "execute_result"
    }
   ],
   "source": [
    "np.sqrt(a)"
   ]
  },
  {
   "cell_type": "code",
   "execution_count": 30,
   "id": "bc1755e4",
   "metadata": {},
   "outputs": [
    {
     "data": {
      "text/plain": [
       "array([0.        , 0.69314718, 1.09861229])"
      ]
     },
     "execution_count": 30,
     "metadata": {},
     "output_type": "execute_result"
    }
   ],
   "source": [
    "np.log(a)   # natural log"
   ]
  },
  {
   "cell_type": "code",
   "execution_count": 29,
   "id": "5ff78cfd",
   "metadata": {},
   "outputs": [
    {
     "data": {
      "text/plain": [
       "array([0.76159416, 0.96402758, 0.99505475])"
      ]
     },
     "execution_count": 29,
     "metadata": {},
     "output_type": "execute_result"
    }
   ],
   "source": [
    "np.tanh(a)"
   ]
  }
 ],
 "metadata": {
  "kernelspec": {
   "display_name": "Python 3 (ipykernel)",
   "language": "python",
   "name": "python3"
  },
  "language_info": {
   "codemirror_mode": {
    "name": "ipython",
    "version": 3
   },
   "file_extension": ".py",
   "mimetype": "text/x-python",
   "name": "python",
   "nbconvert_exporter": "python",
   "pygments_lexer": "ipython3",
   "version": "3.7.11"
  }
 },
 "nbformat": 4,
 "nbformat_minor": 5
}
